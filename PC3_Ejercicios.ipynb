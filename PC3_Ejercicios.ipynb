{
 "cells": [
  {
   "cell_type": "markdown",
   "id": "9df80704-56c7-40fc-ac5f-40e93a4608a2",
   "metadata": {},
   "source": [
    "# PC3\n",
    "#### Alumna: Nataly Alania Laveriano"
   ]
  },
  {
   "cell_type": "markdown",
   "id": "400a6302-5040-4683-baf8-6631d687e7a1",
   "metadata": {},
   "source": [
    "### Problema 1:\n",
    "Escriba una función que, dado un string, retorne la longitud de la última palabra. Se considera que las palabras están separadas por uno o más espacios. También podría haber espacios al principio o al final del string pasado por parámetro."
   ]
  },
  {
   "cell_type": "code",
   "execution_count": null,
   "id": "67f5a2b2-f0c8-4ed4-93b6-49e17a8a3313",
   "metadata": {},
   "outputs": [],
   "source": [
    "def len_lastword(x):\n",
    "    if len(x)==0:\n",
    "        return 0\n",
    "    q=0\n",
    "    for i in range(len(x)):\n",
    "        if x[i]!=' ':\n",
    "            q+=1\n",
    "        else:\n",
    "            if i<len(x)-1 and x[i+1]!=' ':\n",
    "                q=0\n",
    "            return q\n",
    "print(len_lastword(\"Esta es una prueba\"))"
   ]
  },
  {
   "cell_type": "markdown",
   "id": "711e7d78-0bf4-4685-ab41-c078970c33a0",
   "metadata": {},
   "source": [
    "### Problema 3:\n",
    "Definir una clase llamada “CIRCULO” que puede ser construida por un atributo radio. La clase “CIRCULO” debe tener un método que puede calcular el área en utilizando el atributo radio."
   ]
  },
  {
   "cell_type": "code",
   "execution_count": 2,
   "id": "69fa2126-fbf3-4644-9c39-0da8a8e15929",
   "metadata": {},
   "outputs": [
    {
     "name": "stdout",
     "output_type": "stream",
     "text": [
      "803.84\n"
     ]
    }
   ],
   "source": [
    "class CIRCULO():\n",
    "    def __init__(self,r):\n",
    "        self.radio = r\n",
    "    def area(self):\n",
    "        return 3.14*(self.radio**2)\n",
    "\n",
    "Area_circulo = CIRCULO(16)\n",
    "print(Area_circulo.area())"
   ]
  },
  {
   "cell_type": "markdown",
   "id": "d1aca203-cf41-4a16-8450-9b847baf3599",
   "metadata": {},
   "source": [
    "### Problema 4:\n",
    "Definir una clase llamada “RECTANGULO” que puede ser construida por los atributos largo y ancho. La clase “RECTANGULO” debe tener un método que puede calcular el área utilizando los atributos de la clase."
   ]
  },
  {
   "cell_type": "code",
   "execution_count": 10,
   "id": "0553868a-4eee-470f-be01-42ad9caaa8ce",
   "metadata": {},
   "outputs": [
    {
     "name": "stdout",
     "output_type": "stream",
     "text": [
      "252\n"
     ]
    }
   ],
   "source": [
    "class RECTANGULO():\n",
    "    def __init__(self,a,b):\n",
    "        self.largo = a\n",
    "        self.ancho = b\n",
    "    def area(self):\n",
    "        return self.largo*self.ancho\n",
    "\n",
    "Area_rectangulo = RECTANGULO(12,21)\n",
    "print(Area_rectangulo.area())"
   ]
  },
  {
   "cell_type": "markdown",
   "id": "66b911e6-1e0d-4e6c-8eea-bf64d6115fc0",
   "metadata": {},
   "source": [
    "### Problema 5:\n",
    "Cree una clase Alumno e inicialícela con el nombre y el número de registro. Haga los métodos para:\n",
    "1. Display - Debe mostrar toda la información del estudiante (nombre y número de registro).\n",
    "2. setAge - Debe asignar la edad al estudiante\n",
    "3. setNota - Debe asignar las notas al estudiante."
   ]
  },
  {
   "cell_type": "code",
   "execution_count": 14,
   "id": "0fd031bf-0ddb-436a-bff1-4eff2bf29751",
   "metadata": {},
   "outputs": [],
   "source": [
    "class alumno():\n",
    "    def __init__(self,name,register):\n",
    "        self.name = name\n",
    "        self.register= register\n",
    "    def display(self):\n",
    "        print(self.name)\n",
    "        print(self.register)\n",
    "    def setAge(self,age):\n",
    "        self.age=age\n",
    "    def setNota(self,nota):\n",
    "        self.nota = nota"
   ]
  },
  {
   "cell_type": "markdown",
   "id": "04bf2928-217b-47c9-9461-5e6acb8774b6",
   "metadata": {},
   "source": [
    "### Problema 7:\n",
    "Escribe una función de Python que imprima las primeras n filas del triángulo de Pascal.\n",
    "Nota: El triángulo de Pascal es una figura aritmética y geométrica imaginada por primera vez por Blaise Pascal."
   ]
  },
  {
   "cell_type": "code",
   "execution_count": 15,
   "id": "06a9d7e9-7f90-44f1-8b4c-19f00b3dbb04",
   "metadata": {},
   "outputs": [
    {
     "name": "stdout",
     "output_type": "stream",
     "text": [
      "[1]\n",
      "[1, 1]\n",
      "[1, 2, 1]\n",
      "[1, 3, 3, 1]\n",
      "[1, 4, 6, 4, 1]\n",
      "[1, 5, 10, 10, 5, 1]\n",
      "[1, 6, 15, 20, 15, 6, 1]\n",
      "[1, 7, 21, 35, 35, 21, 7, 1]\n",
      "[1, 8, 28, 56, 70, 56, 28, 8, 1]\n",
      "[1, 9, 36, 84, 126, 126, 84, 36, 9, 1]\n"
     ]
    },
    {
     "data": {
      "text/plain": [
       "True"
      ]
     },
     "execution_count": 15,
     "metadata": {},
     "output_type": "execute_result"
    }
   ],
   "source": [
    "def pascal_triangle(n):\n",
    "    fila = [1]\n",
    "    y = [0]\n",
    "    for x in range(max(n,0)):\n",
    "        print(fila)\n",
    "        fila=[l+r for l,r in zip(fila+y, y+fila)]\n",
    "    return n>=1\n",
    "pascal_triangle(10)"
   ]
  }
 ],
 "metadata": {
  "kernelspec": {
   "display_name": "Python 3",
   "language": "python",
   "name": "python3"
  },
  "language_info": {
   "codemirror_mode": {
    "name": "ipython",
    "version": 3
   },
   "file_extension": ".py",
   "mimetype": "text/x-python",
   "name": "python",
   "nbconvert_exporter": "python",
   "pygments_lexer": "ipython3",
   "version": "3.8.8"
  }
 },
 "nbformat": 4,
 "nbformat_minor": 5
}
